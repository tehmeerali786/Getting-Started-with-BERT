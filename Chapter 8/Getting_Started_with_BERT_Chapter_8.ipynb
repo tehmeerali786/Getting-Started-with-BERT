{
  "nbformat": 4,
  "nbformat_minor": 0,
  "metadata": {
    "colab": {
      "name": "Getting Started with BERT Chapter 8.ipynb",
      "provenance": [],
      "collapsed_sections": []
    },
    "kernelspec": {
      "name": "python3",
      "display_name": "Python 3"
    },
    "language_info": {
      "name": "python"
    }
  },
  "cells": [
    {
      "cell_type": "markdown",
      "metadata": {
        "id": "1Slp0vIhesmV"
      },
      "source": [
        "# **Exploring Sentence Transformer Library**"
      ]
    },
    {
      "cell_type": "code",
      "metadata": {
        "id": "1P8vLvbLd_Wc"
      },
      "source": [
        "%%capture\n",
        "!pip install sentence_transformers==0.4.0"
      ],
      "execution_count": 3,
      "outputs": []
    },
    {
      "cell_type": "code",
      "metadata": {
        "id": "JZ2DqlXqe_WU"
      },
      "source": [
        "from sentence_transformers import SentenceTransformer"
      ],
      "execution_count": 4,
      "outputs": []
    },
    {
      "cell_type": "code",
      "metadata": {
        "colab": {
          "base_uri": "https://localhost:8080/"
        },
        "id": "cdcuNYrIfV5X",
        "outputId": "e3715742-9b20-4ce4-9f03-0a14e677ff4c"
      },
      "source": [
        "model = SentenceTransformer('bert-base-nli-mean-tokens')"
      ],
      "execution_count": 5,
      "outputs": [
        {
          "output_type": "stream",
          "text": [
            "100%|██████████| 405M/405M [00:46<00:00, 8.74MB/s]\n",
            "Some weights of the model checkpoint at /root/.cache/torch/sentence_transformers/sbert.net_models_bert-base-nli-mean-tokens/0_BERT were not used when initializing BertModel: ['classifier.bias', 'classifier.weight']\n",
            "- This IS expected if you are initializing BertModel from the checkpoint of a model trained on another task or with another architecture (e.g. initializing a BertForSequenceClassification model from a BertForPreTraining model).\n",
            "- This IS NOT expected if you are initializing BertModel from the checkpoint of a model that you expect to be exactly identical (initializing a BertForSequenceClassification model from a BertForSequenceClassification model).\n"
          ],
          "name": "stderr"
        }
      ]
    },
    {
      "cell_type": "code",
      "metadata": {
        "id": "8LGB7rCNf2Jl"
      },
      "source": [
        "sentence = 'dallas is a beautiful city'"
      ],
      "execution_count": 6,
      "outputs": []
    },
    {
      "cell_type": "code",
      "metadata": {
        "id": "NvRSYvmfgRAU"
      },
      "source": [
        "sentence_represententation = model.encode(sentence)"
      ],
      "execution_count": 7,
      "outputs": []
    },
    {
      "cell_type": "code",
      "metadata": {
        "colab": {
          "base_uri": "https://localhost:8080/"
        },
        "id": "YFKVruWngfZl",
        "outputId": "032f801e-b8e8-4857-ec1b-e18ff4af8920"
      },
      "source": [
        "print(sentence_represententation.shape)"
      ],
      "execution_count": 8,
      "outputs": [
        {
          "output_type": "stream",
          "text": [
            "(768,)\n"
          ],
          "name": "stdout"
        }
      ]
    },
    {
      "cell_type": "markdown",
      "metadata": {
        "id": "D4NOrPKYiWjn"
      },
      "source": [
        "# **Computing Sentence Similarity**"
      ]
    },
    {
      "cell_type": "code",
      "metadata": {
        "id": "37NEUCGzgoal"
      },
      "source": [
        "import scipy"
      ],
      "execution_count": 9,
      "outputs": []
    },
    {
      "cell_type": "code",
      "metadata": {
        "id": "hvwDDgG-iedw"
      },
      "source": [
        "from sentence_transformers import util"
      ],
      "execution_count": 10,
      "outputs": []
    },
    {
      "cell_type": "code",
      "metadata": {
        "colab": {
          "base_uri": "https://localhost:8080/"
        },
        "id": "I2p6RoxBittw",
        "outputId": "1ad18f3b-7cd6-41f3-8a0e-98cbf44f912e"
      },
      "source": [
        "model = SentenceTransformer('bert-base-nli-mean-tokens')"
      ],
      "execution_count": 11,
      "outputs": [
        {
          "output_type": "stream",
          "text": [
            "Some weights of the model checkpoint at /root/.cache/torch/sentence_transformers/sbert.net_models_bert-base-nli-mean-tokens/0_BERT were not used when initializing BertModel: ['classifier.bias', 'classifier.weight']\n",
            "- This IS expected if you are initializing BertModel from the checkpoint of a model trained on another task or with another architecture (e.g. initializing a BertForSequenceClassification model from a BertForPreTraining model).\n",
            "- This IS NOT expected if you are initializing BertModel from the checkpoint of a model that you expect to be exactly identical (initializing a BertForSequenceClassification model from a BertForSequenceClassification model).\n"
          ],
          "name": "stderr"
        }
      ]
    },
    {
      "cell_type": "code",
      "metadata": {
        "id": "8GbaYh6gi9Pw"
      },
      "source": [
        "sentence1 = 'It was a great day' \n",
        "sentence2 = 'Today was awesome'"
      ],
      "execution_count": 12,
      "outputs": []
    },
    {
      "cell_type": "code",
      "metadata": {
        "id": "aviikTTnjBK_"
      },
      "source": [
        "sentence1_representation = model.encode(sentence1)\n",
        "sentence2_representation = model.encode(sentence2)"
      ],
      "execution_count": 13,
      "outputs": []
    },
    {
      "cell_type": "code",
      "metadata": {
        "id": "YWL3qC1ljNC_"
      },
      "source": [
        "cosine_sim = util.pytorch_cos_sim(sentence1_representation, sentence2_representation)"
      ],
      "execution_count": 14,
      "outputs": []
    },
    {
      "cell_type": "code",
      "metadata": {
        "colab": {
          "base_uri": "https://localhost:8080/"
        },
        "id": "PykOITUyjeoP",
        "outputId": "16fd18cc-955e-4bb7-92f5-1b807a57eee9"
      },
      "source": [
        "print(cosine_sim)"
      ],
      "execution_count": 15,
      "outputs": [
        {
          "output_type": "stream",
          "text": [
            "tensor([[0.9313]])\n"
          ],
          "name": "stdout"
        }
      ]
    },
    {
      "cell_type": "markdown",
      "metadata": {
        "id": "CaZK1ScRjwFU"
      },
      "source": [
        "# **Finding a Similar Sentence with BERT**"
      ]
    },
    {
      "cell_type": "code",
      "metadata": {
        "id": "qNSXKLrvjjdO"
      },
      "source": [
        "import numpy as np"
      ],
      "execution_count": 16,
      "outputs": []
    },
    {
      "cell_type": "code",
      "metadata": {
        "id": "L0aqki0kj5DO"
      },
      "source": [
        "master_dict = [\n",
        "                'How to cancel my order?',\n",
        "                'Please let me know about the cancellation policy?',\n",
        "                'Do you provide refund?',\n",
        "                'what is the estimated delivery date of the product?', \n",
        "                'why my order is missing?',\n",
        "                'how do i report the delivery of the incorrect items?'\n",
        "              ]"
      ],
      "execution_count": 17,
      "outputs": []
    },
    {
      "cell_type": "code",
      "metadata": {
        "id": "FEFEiBhMkBY9"
      },
      "source": [
        "inp_question = 'When is my product getting delivered?'"
      ],
      "execution_count": 18,
      "outputs": []
    },
    {
      "cell_type": "code",
      "metadata": {
        "id": "FgfxNPUhkSwd"
      },
      "source": [
        "inp_question_representation = model.encode(inp_question, convert_to_tensor=True)"
      ],
      "execution_count": 19,
      "outputs": []
    },
    {
      "cell_type": "code",
      "metadata": {
        "id": "hYxqzYWWkiDc"
      },
      "source": [
        "master_dict_representation = model.encode(master_dict, convert_to_tensor=True)"
      ],
      "execution_count": 20,
      "outputs": []
    },
    {
      "cell_type": "code",
      "metadata": {
        "id": "KEQjL_aVkyrs"
      },
      "source": [
        "similarity = util.pytorch_cos_sim(inp_question_representation, master_dict_representation)"
      ],
      "execution_count": 21,
      "outputs": []
    },
    {
      "cell_type": "code",
      "metadata": {
        "colab": {
          "base_uri": "https://localhost:8080/"
        },
        "id": "Yd5MSc7ElARr",
        "outputId": "0d9740cb-698b-4c6a-ca58-bdc5004e6a5f"
      },
      "source": [
        "print('The most similar question in the master dictionary to given input question is: ', master_dict[np.argmax(similarity)])"
      ],
      "execution_count": 24,
      "outputs": [
        {
          "output_type": "stream",
          "text": [
            "The most similar question in the master dictionary to given input question is:  what is the estimated delivery date of the product?\n"
          ],
          "name": "stdout"
        }
      ]
    },
    {
      "cell_type": "code",
      "metadata": {
        "id": "-OO7KcxclYtL"
      },
      "source": [
        ""
      ],
      "execution_count": null,
      "outputs": []
    }
  ]
}